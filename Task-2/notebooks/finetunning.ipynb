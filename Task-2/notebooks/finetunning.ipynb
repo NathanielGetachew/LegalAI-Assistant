{
 "cells": [
  {
   "cell_type": "markdown",
   "id": "ab0ea33f",
   "metadata": {},
   "source": [
    "### Task Definition\n",
    "\n",
    "We aim to classify legal complaint text into predefined violation categories (multi-class classification) using two approaches:\n",
    "- Fine-tuning a smaller language model\n",
    "- Prompt engineering using the base model\n",
    "\n",
    "#### Target Labels (examples from LegalLens):\n",
    "- Harassment\n",
    "- Wage Theft\n",
    "- Discrimination\n",
    "- Unsafe Work Conditions\n",
    "\n",
    "This task is suitable for comparing both approaches because:\n",
    "- It requires understanding of context and semantics.\n",
    "- The dataset is rich with labeled examples.\n",
    "- The use case mirrors real-world legal classification needs.\n"
   ]
  }
 ],
 "metadata": {
  "language_info": {
   "name": "python"
  }
 },
 "nbformat": 4,
 "nbformat_minor": 5
}
