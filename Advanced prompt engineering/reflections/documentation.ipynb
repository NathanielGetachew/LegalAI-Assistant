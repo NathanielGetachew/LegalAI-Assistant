{
 "cells": [
  {
   "cell_type": "markdown",
   "id": "86c59c80",
   "metadata": {},
   "source": [
    "this is documentation which spe"
   ]
  },
  {
   "cell_type": "code",
   "execution_count": null,
   "id": "10b1f27a",
   "metadata": {
    "vscode": {
     "languageId": "plaintext"
    }
   },
   "outputs": [],
   "source": []
  }
 ],
 "metadata": {
  "language_info": {
   "name": "python"
  }
 },
 "nbformat": 4,
 "nbformat_minor": 5
}
