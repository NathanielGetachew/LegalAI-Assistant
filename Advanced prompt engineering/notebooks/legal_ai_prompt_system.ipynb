{
 "cells": [
  {
   "cell_type": "code",
   "execution_count": null,
   "id": "0a0a4ded",
   "metadata": {
    "vscode": {
     "languageId": "plaintext"
    }
   },
   "outputs": [],
   "source": [
    "!pip install datasets\n",
    "\n",
    "from datasets import load_dataset\n",
    "\n",
    "# Load the LegalLens dataset\n",
    "dataset = load_dataset(\"ai4bharat/LegalLens\", split=\"train\")\n",
    "\n",
    "# Show 3 sample entries\n",
    "for i in range(3):\n",
    "    print(f\"Complaint {i+1}: {dataset[i]['text']}\")\n",
    "    print(f\"Label(s): {dataset[i]['labels']}\")\n",
    "    print(\"-\" * 80)\n"
   ]
  }
 ],
 "metadata": {
  "language_info": {
   "name": "python"
  }
 },
 "nbformat": 4,
 "nbformat_minor": 5
}
